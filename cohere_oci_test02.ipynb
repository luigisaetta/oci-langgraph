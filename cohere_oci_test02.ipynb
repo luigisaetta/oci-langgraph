{
 "cells": [
  {
   "cell_type": "code",
   "execution_count": 3,
   "id": "f40663f8-7116-48a6-88da-7700374a896d",
   "metadata": {},
   "outputs": [],
   "source": [
    "from typing import Annotated\n",
    "from typing_extensions import TypedDict\n",
    "\n",
    "from langchain_community.chat_models import ChatOCIGenAI\n",
    "from langgraph.graph import StateGraph, add_messages\n",
    "from langgraph.graph import START, END\n",
    "\n",
    "from config_private import COMPARTMENT_ID"
   ]
  },
  {
   "cell_type": "code",
   "execution_count": 4,
   "id": "b6546ad9-ea5a-4461-ba87-a6715253a288",
   "metadata": {},
   "outputs": [],
   "source": [
    "# configs\n",
    "MODEL_ID = \"cohere.command-r-plus-08-2024\"\n",
    "SERVICE_ENDPOINT = \"https://inference.generativeai.eu-frankfurt-1.oci.oraclecloud.com\"\n",
    "\n",
    "TEMPERATURE = 0.1\n",
    "MAX_TOKENS = 1024"
   ]
  },
  {
   "cell_type": "code",
   "execution_count": 5,
   "id": "9cf901ae-1958-423d-91e7-ebe01469f91b",
   "metadata": {},
   "outputs": [],
   "source": [
    "# the Chat model used\n",
    "llm = ChatOCIGenAI(\n",
    "    auth_type=\"API_KEY\",\n",
    "    model_id=MODEL_ID,\n",
    "    service_endpoint=SERVICE_ENDPOINT,\n",
    "    compartment_id=COMPARTMENT_ID,\n",
    "    is_stream=True,\n",
    "    model_kwargs={\"temperature\": TEMPERATURE, \"max_tokens\": MAX_TOKENS},\n",
    ")\n",
    "\n",
    "\n",
    "class State(TypedDict):\n",
    "    messages: Annotated[list, add_messages]"
   ]
  },
  {
   "cell_type": "code",
   "execution_count": 7,
   "id": "d339eab7-13c4-4c67-83ba-490984a33a80",
   "metadata": {},
   "outputs": [],
   "source": [
    "# here we define the node\n",
    "# 02: changed to handle message history\n",
    "def chatbot(state: State):\n",
    "\n",
    "    response = llm.invoke(input=state[\"messages\"])\n",
    "\n",
    "    return {\n",
    "        \"messages\": state[\"messages\"]\n",
    "        + [{\"role\": \"assistant\", \"content\": response.content}]\n",
    "    }"
   ]
  },
  {
   "cell_type": "code",
   "execution_count": 8,
   "id": "e700514b-069f-46fb-853a-fdcea2db9b9b",
   "metadata": {},
   "outputs": [],
   "source": [
    "# here we define the graph\n",
    "graph_builder = StateGraph(State)\n",
    "\n",
    "graph_builder.add_node(\"chatbot\", chatbot)\n",
    "\n",
    "graph_builder.add_edge(START, \"chatbot\")\n",
    "graph_builder.add_edge(\"chatbot\", END)\n",
    "\n",
    "graph = graph_builder.compile()"
   ]
  },
  {
   "cell_type": "code",
   "execution_count": 9,
   "id": "f191e287-befe-4e1c-82f6-103e9d3739e8",
   "metadata": {},
   "outputs": [
    {
     "data": {
      "image/png": "[encoded data removed]",
      "text/plain": [
       "<langgraph.graph.state.CompiledStateGraph object at 0x10a587910>"
      ]
     },
     "execution_count": 9,
     "metadata": {},
     "output_type": "execute_result"
    }
   ],
   "source": [
    "graph"
   ]
  },
  {
   "cell_type": "markdown",
   "id": "df77b50a-9634-403a-9145-973c2465df70",
   "metadata": {},
   "source": [
    "#### Processing input"
   ]
  },
  {
   "cell_type": "code",
   "execution_count": null,
   "id": "b68a1a41-c04c-439a-b135-4f338b1e3c61",
   "metadata": {},
   "outputs": [
    {
     "name": "stdin",
     "output_type": "stream",
     "text": [
      "User:  Who is Larry Ellison?\n"
     ]
    },
    {
     "name": "stdout",
     "output_type": "stream",
     "text": [
      "\n",
      "AI Assistant: Larry Ellison is an American entrepreneur and businessman who is the co-founder, executive chairman, chief technology officer (CTO), and former chief executive officer (CEO) of Oracle Corporation. He is known for his aggressive business tactics, which have made him a controversial figure in the tech industry.\n",
      "\n",
      "Ellison was born in New York City on August 17, 1944. He had a challenging childhood as his mother was 19 years old when he was born, and she put him up for adoption when he was nine months old. He was raised by his adoptive parents, Lillian and Louis Ellison, in Chicago's South Side. After high school, he attended the University of Illinois at Urbana-Champaign for two years but did not graduate. During his time there, he became interested in computer design.\n",
      "\n",
      "In 1977, Larry Ellison co-founded Software Development Laboratories (SDL) with Bob Miner and Ed Oates. The company later became Relational Software Inc., and eventually, in 1982, it was renamed Oracle Systems Corporation, now known as Oracle Corporation. Ellison and his team saw the potential of the relational database management system (RDBMS) and developed their own software, which became the Oracle Database. This product became the cornerstone of Oracle's success, and the company grew rapidly, becoming a leading provider of database technology.\n",
      "\n",
      "Larry Ellison served as Oracle's CEO for many years and was known for his intense focus on the company's success. He stepped down as CEO in 2014 but remained chairman and CTO. Ellison has also been involved in various other business ventures, including founding the cloud computing company NetSuite and investing in other tech startups.\n",
      "\n",
      "In addition to his business endeavors, Ellison is known for his interest in sailing and owns several high-performance sailing yachts. He has participated in numerous sailing competitions and has won several races, including the America's Cup in 2010 and 2013 with his team BMW Oracle Racing.\n",
      "\n",
      "Larry Ellison is also recognized for his philanthropic efforts. He has signed The Giving Pledge, committing to donate the majority of his wealth to charitable causes, and has supported various educational and medical research institutions.\n",
      "\n",
      "As of 2023, Larry Ellison is listed by Forbes as the eighth-richest person in the world, with an estimated net worth of $90.8 billion. His success in the technology industry and his entrepreneurial ventures have made him a prominent figure in the business world.\n",
      "\n"
     ]
    },
    {
     "name": "stdin",
     "output_type": "stream",
     "text": [
      "User:  Has he to do with Oracle?\n"
     ]
    },
    {
     "name": "stdout",
     "output_type": "stream",
     "text": [
      "\n",
      "AI Assistant: I'm sorry, but I need more context to answer your question. Who are you referring to? If you provide me with the name of the person or entity you're asking about, I can then determine if they have any connection to Oracle.\n",
      "\n"
     ]
    }
   ],
   "source": [
    "while True:\n",
    "    user_input = input(\"User: \")\n",
    "\n",
    "    if user_input.lower() in [\"quit\", \"exit\", \"q\"]:\n",
    "        print(\"Bye!\")\n",
    "        break\n",
    "\n",
    "    state = {\"messages\": [{\"role\": \"user\", \"content\": user_input}]}\n",
    "\n",
    "    for event in graph.stream(state):\n",
    "        for value in event.values():\n",
    "            print(\"\")\n",
    "            print(\"AI Assistant:\", value[\"messages\"][-1][\"content\"])\n",
    "            print(\"\")"
   ]
  },
  {
   "cell_type": "code",
   "execution_count": null,
   "id": "4f13ee14-2659-4f94-acd8-dd612d3969fd",
   "metadata": {},
   "outputs": [],
   "source": []
  }
 ],
 "metadata": {
  "kernelspec": {
   "display_name": "Python 3 (ipykernel)",
   "language": "python",
   "name": "python3"
  },
  "language_info": {
   "codemirror_mode": {
    "name": "ipython",
    "version": 3
   },
   "file_extension": ".py",
   "mimetype": "text/x-python",
   "name": "python",
   "nbconvert_exporter": "python",
   "pygments_lexer": "ipython3",
   "version": "3.11.0"
  }
 },
 "nbformat": 4,
 "nbformat_minor": 5
}

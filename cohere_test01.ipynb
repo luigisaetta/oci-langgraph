{
 "cells": [
  {
   "cell_type": "code",
   "execution_count": 1,
   "id": "f40663f8-7116-48a6-88da-7700374a896d",
   "metadata": {},
   "outputs": [],
   "source": [
    "from typing import Annotated\n",
    "from typing_extensions import TypedDict\n",
    "\n",
    "import cohere\n",
    "from langgraph.graph import StateGraph, add_messages\n",
    "from langgraph.graph import START, END\n",
    "\n",
    "from config_private import COHERE_API_KEY"
   ]
  },
  {
   "cell_type": "code",
   "execution_count": 2,
   "id": "9cf901ae-1958-423d-91e7-ebe01469f91b",
   "metadata": {},
   "outputs": [],
   "source": [
    "MODEL_ID = \"command-r-plus-08-2024\"\n",
    "\n",
    "co = cohere.ClientV2(COHERE_API_KEY)"
   ]
  },
  {
   "cell_type": "code",
   "execution_count": 3,
   "id": "51bdd3a5-0104-4161-901c-5a2ddecc1975",
   "metadata": {},
   "outputs": [],
   "source": [
    "class State(TypedDict):\n",
    "    messages: Annotated[list, add_messages]\n",
    "\n",
    "\n",
    "graph_builder = StateGraph(State)"
   ]
  },
  {
   "cell_type": "code",
   "execution_count": 4,
   "id": "d339eab7-13c4-4c67-83ba-490984a33a80",
   "metadata": {},
   "outputs": [],
   "source": [
    "def chatbot(state: State):\n",
    "    print(state[\"messages\"][-1])\n",
    "\n",
    "    user_message = state[\"messages\"][-1].content\n",
    "\n",
    "    response = co.chat(\n",
    "        model=MODEL_ID, messages=[{\"role\": \"user\", \"content\": user_message}]\n",
    "    )\n",
    "\n",
    "    return {\n",
    "        \"messages\": state[\"messages\"]\n",
    "        + [{\"role\": \"assistant\", \"content\": response.message.content[0].text}]\n",
    "    }"
   ]
  },
  {
   "cell_type": "code",
   "execution_count": 5,
   "id": "e700514b-069f-46fb-853a-fdcea2db9b9b",
   "metadata": {},
   "outputs": [],
   "source": [
    "graph_builder.add_node(\"chatbot\", chatbot)\n",
    "graph_builder.add_edge(START, \"chatbot\")\n",
    "graph_builder.add_edge(\"chatbot\", END)\n",
    "\n",
    "graph = graph_builder.compile()"
   ]
  },
  {
   "cell_type": "markdown",
   "id": "df77b50a-9634-403a-9145-973c2465df70",
   "metadata": {},
   "source": [
    "#### Processing input"
   ]
  },
  {
   "cell_type": "code",
   "execution_count": null,
   "id": "b68a1a41-c04c-439a-b135-4f338b1e3c61",
   "metadata": {},
   "outputs": [
    {
     "name": "stdin",
     "output_type": "stream",
     "text": [
      "Utente:  Chi è Larry Ellison?\n"
     ]
    },
    {
     "name": "stdout",
     "output_type": "stream",
     "text": [
      "content='Chi è Larry Ellison?' additional_kwargs={} response_metadata={} id='83579a60-5018-45a3-b370-c567c6842abf'\n",
      "\n",
      "Assistente: Larry Ellison è un imprenditore e informatico statunitense, noto per essere il co-fondatore e presidente esecutivo di Oracle Corporation, una delle più grandi aziende di software al mondo.\n",
      "\n",
      "Ellison è nato a New York il 17 agosto 1944. Ha trascorso la sua infanzia a Chicago e, dopo la laurea, si è trasferito in California, dove ha iniziato la sua carriera nel settore tecnologico.\n",
      "\n",
      "Nel 1977, insieme ai suoi colleghi Bob Miner e Ed Oates, Ellison ha fondato la Software Development Laboratories, che in seguito divenne Oracle Corporation. Ellison ha avuto un ruolo cruciale nello sviluppo e nella crescita dell'azienda, trasformando il database relazionale Oracle in un prodotto di successo a livello globale. Sotto la sua guida, Oracle è diventata una delle principali società di software, offrendo una gamma di prodotti e servizi per la gestione dei dati e delle informazioni.\n",
      "\n",
      "Larry Ellison è noto per la sua personalità carismatica e competitiva, ed è stato spesso descritto come un leader visionario nel settore tecnologico. È stato incluso nella lista delle persone più ricche del mondo dalla rivista Forbes e ha avuto un impatto significativo sull'industria del software e della tecnologia.\n",
      "\n",
      "Oltre al suo lavoro in Oracle, Ellison ha anche interessi in altre aree, come lo sport. È stato proprietario del team di vela BMW Oracle Racing, che ha vinto l'America's Cup nel 2010, e ha investito in diverse squadre sportive professionistiche.\n",
      "\n",
      "La sua vita e i suoi successi imprenditoriali hanno attirato l'attenzione dei media e Ellison è considerato una figura influente nel mondo della tecnologia e degli affari.\n"
     ]
    }
   ],
   "source": [
    "while True:\n",
    "    user_input = input(\"Utente: \")\n",
    "\n",
    "    if user_input.lower() in [\"quit\", \"exit\", \"q\"]:\n",
    "        print(\"Arrivederci!\")\n",
    "        break\n",
    "\n",
    "    state = {\"messages\": [{\"role\": \"user\", \"content\": user_input}]}\n",
    "\n",
    "    for event in graph.stream(state):\n",
    "        for value in event.values():\n",
    "            print(\"\")\n",
    "            print(\"Assistente:\", value[\"messages\"][-1][\"content\"])"
   ]
  },
  {
   "cell_type": "code",
   "execution_count": null,
   "id": "4f13ee14-2659-4f94-acd8-dd612d3969fd",
   "metadata": {},
   "outputs": [],
   "source": []
  }
 ],
 "metadata": {
  "kernelspec": {
   "display_name": "Python 3 (ipykernel)",
   "language": "python",
   "name": "python3"
  },
  "language_info": {
   "codemirror_mode": {
    "name": "ipython",
    "version": 3
   },
   "file_extension": ".py",
   "mimetype": "text/x-python",
   "name": "python",
   "nbconvert_exporter": "python",
   "pygments_lexer": "ipython3",
   "version": "3.11.0"
  }
 },
 "nbformat": 4,
 "nbformat_minor": 5
}
